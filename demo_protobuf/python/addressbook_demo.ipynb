{
 "cells": [
  {
   "cell_type": "code",
   "execution_count": null,
   "metadata": {},
   "outputs": [],
   "source": [
    "# pip install protobuf"
   ]
  },
  {
   "cell_type": "code",
   "execution_count": 2,
   "metadata": {},
   "outputs": [],
   "source": [
    "import addressbook_pb2\n",
    "import sys\n",
    "from google.protobuf import text_format"
   ]
  },
  {
   "cell_type": "code",
   "execution_count": 3,
   "metadata": {},
   "outputs": [],
   "source": [
    "address_book = addressbook_pb2.AddressBook()\n",
    "person = address_book.people.add()\n",
    "\n",
    "person.id = 1\n",
    "person.name = \"safly\"\n",
    "person.email = \"safly@qq.com\"\n",
    "person.money = 1000.11\n",
    "person.work_status = True\n",
    "\n",
    "phone_number = person.phones.add()\n",
    "phone_number.number = \"123456\"\n",
    "phone_number.type = addressbook_pb2.MOBILE\n",
    "\n",
    "maps = person.maps\n",
    "maps.mapfield[1] = 1\n",
    "maps.mapfield[2] = 2"
   ]
  },
  {
   "cell_type": "markdown",
   "metadata": {},
   "source": [
    "## binary format"
   ]
  },
  {
   "cell_type": "code",
   "execution_count": 4,
   "metadata": {},
   "outputs": [
    {
     "data": {
      "text/plain": [
       "b'\\n6\\n\\x05safly\\x10\\x01\\x1a\\x0csafly@qq.com%\\n\\x07zD(\\x012\\x08\\n\\x06123456:\\x0c\\n\\x04\\x08\\x01\\x10\\x01\\n\\x04\\x08\\x02\\x10\\x02'"
      ]
     },
     "execution_count": 4,
     "metadata": {},
     "output_type": "execute_result"
    }
   ],
   "source": [
    "# 二进制序列化\n",
    "serialize_byte = address_book.SerializePartialToString()\n",
    "serialize_byte"
   ]
  },
  {
   "cell_type": "code",
   "execution_count": 5,
   "metadata": {},
   "outputs": [],
   "source": [
    "# 保存\n",
    "with open('addressbook_data.proto', 'wb') as f:\n",
    "    f.write(serialize_byte)"
   ]
  },
  {
   "cell_type": "code",
   "execution_count": 6,
   "metadata": {},
   "outputs": [
    {
     "name": "stdout",
     "output_type": "stream",
     "text": [
      "people {\n",
      "  name: \"safly\"\n",
      "  id: 1\n",
      "  email: \"safly@qq.com\"\n",
      "  money: 1000.1099853515625\n",
      "  work_status: true\n",
      "  phones {\n",
      "    number: \"123456\"\n",
      "  }\n",
      "  maps {\n",
      "    mapfield {\n",
      "      key: 1\n",
      "      value: 1\n",
      "    }\n",
      "    mapfield {\n",
      "      key: 2\n",
      "      value: 2\n",
      "    }\n",
      "  }\n",
      "}\n",
      "\n"
     ]
    }
   ],
   "source": [
    "# 读取\n",
    "address_book = addressbook_pb2.AddressBook()\n",
    "with open('addressbook_data.proto', 'rb') as f:\n",
    "    address_book.MergeFromString(f.read()) # need a bytes-like object\n",
    "print(address_book)"
   ]
  },
  {
   "cell_type": "markdown",
   "metadata": {},
   "source": [
    "## text format"
   ]
  },
  {
   "cell_type": "code",
   "execution_count": 7,
   "metadata": {},
   "outputs": [
    {
     "name": "stdout",
     "output_type": "stream",
     "text": [
      "people {\n",
      "  name: \"safly\"\n",
      "  id: 1\n",
      "  email: \"safly@qq.com\"\n",
      "  money: 1000.11\n",
      "  work_status: true\n",
      "  phones {\n",
      "    number: \"123456\"\n",
      "  }\n",
      "  maps {\n",
      "    mapfield {\n",
      "      key: 1\n",
      "      value: 1\n",
      "    }\n",
      "    mapfield {\n",
      "      key: 2\n",
      "      value: 2\n",
      "    }\n",
      "  }\n",
      "}\n",
      "\n"
     ]
    }
   ],
   "source": [
    "# 文本序列化\n",
    "serialize_str = text_format.MessageToString(address_book)\n",
    "print(serialize_str)\n",
    "# text_format.PrintMessage(address_book, sys.stdout)  # 或者是"
   ]
  },
  {
   "cell_type": "code",
   "execution_count": 8,
   "metadata": {},
   "outputs": [],
   "source": [
    "# 保存\n",
    "with open('addressbook_data.pbtxt', 'w') as f:\n",
    "    f.write(serialize_str)\n",
    "#     text_format.PrintMessage(address_book, f) # 或者是"
   ]
  },
  {
   "cell_type": "code",
   "execution_count": 9,
   "metadata": {},
   "outputs": [
    {
     "data": {
      "text/plain": [
       "people {\n",
       "  name: \"safly\"\n",
       "  id: 1\n",
       "  email: \"safly@qq.com\"\n",
       "  money: 1000.1099853515625\n",
       "  work_status: true\n",
       "  phones {\n",
       "    number: \"123456\"\n",
       "  }\n",
       "  maps {\n",
       "    mapfield {\n",
       "      key: 1\n",
       "      value: 1\n",
       "    }\n",
       "    mapfield {\n",
       "      key: 2\n",
       "      value: 2\n",
       "    }\n",
       "  }\n",
       "}"
      ]
     },
     "execution_count": 9,
     "metadata": {},
     "output_type": "execute_result"
    }
   ],
   "source": [
    "# 读取\n",
    "address_book = addressbook_pb2.AddressBook()\n",
    "with open('addressbook_data.pbtxt') as f:\n",
    "    text_format.Merge(f.read(), address_book)\n",
    "address_book"
   ]
  }
 ],
 "metadata": {
  "kernelspec": {
   "display_name": "Python 3",
   "language": "python",
   "name": "python3"
  },
  "language_info": {
   "codemirror_mode": {
    "name": "ipython",
    "version": 3
   },
   "file_extension": ".py",
   "mimetype": "text/x-python",
   "name": "python",
   "nbconvert_exporter": "python",
   "pygments_lexer": "ipython3",
   "version": "3.7.6"
  }
 },
 "nbformat": 4,
 "nbformat_minor": 4
}
